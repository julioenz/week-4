{
 "cells": [
  {
   "cell_type": "markdown",
   "metadata": {},
   "source": [
    "<h1>Neighborhoods with the lowest amount of bakeries in Curitiba Brazil</h1>\n",
    "\n",
    "Curitiba is the capital and largest city in the Brazilian state of Paraná. The city's population was 1,879,355 as of 2015, making it the eighth most populous city in Brazil and the largest in Brazil's South Region. The Curitiba Metropolitan area comprises 26 municipalities with a total population of over 3.2 million (IBGE estimate in 2010) making it the seventh most populous metropolitan area in the country.\n",
    "\n",
    "According to a survey commissioned by the Brazilian Association of Biscuit, Pasta and Bread Industries, of the national sales volume recorded in 2017 (433.9 thousand tons), Paraná, Santa Catarina and Rio Grande do Sul together account for 18, 1% of consumption - about 78.5 thousand tons - of processed breads.\n",
    "\n",
    "The objective of this work is to identify the neighborhoods with the greatest potential for the establishment of bakery establishments in Curitiba. The criteria adopted to rank will be population, number of bakeries and crime rates."
   ]
  }
 ],
 "metadata": {
  "kernelspec": {
   "display_name": "Python 3",
   "language": "python",
   "name": "python3"
  },
  "language_info": {
   "codemirror_mode": {
    "name": "ipython",
    "version": 3
   },
   "file_extension": ".py",
   "mimetype": "text/x-python",
   "name": "python",
   "nbconvert_exporter": "python",
   "pygments_lexer": "ipython3",
   "version": "3.7.3"
  }
 },
 "nbformat": 4,
 "nbformat_minor": 2
}
